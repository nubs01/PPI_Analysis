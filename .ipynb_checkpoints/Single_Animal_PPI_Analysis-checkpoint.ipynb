{
 "cells": [
  {
   "cell_type": "code",
   "execution_count": 69,
   "metadata": {},
   "outputs": [],
   "source": [
    "import pandas as pd\n",
    "import easygui as eg\n",
    "import numpy as np\n",
    "import seaborn as sns\n",
    "import matplotlib as plt\n",
    "from scipy.optimize import curve_fit\n",
    "from scipy.stats import ttest_ind\n",
    "from ppi_analysis import *"
   ]
  },
  {
   "cell_type": "code",
   "execution_count": 70,
   "metadata": {},
   "outputs": [],
   "source": [
    "data_file = '/home/roshan/Dropbox/Harmonia/Aphrodite/Experiments/PPI_Project/LDF74_Run_Results.txt'\n",
    "#data_file = eg.fileopenbox(filetypes=['txt','csv'],msg='Select Data File to load')"
   ]
  },
  {
   "cell_type": "code",
   "execution_count": 71,
   "metadata": {},
   "outputs": [],
   "source": [
    "header= {0:'Chamber',1:'Subject',2:'Session',\n",
    "         3:'Channel',4:'Trial',5:'Trial Num',\n",
    "         6:'Group',7:'Param',8:'Trial List Block',\n",
    "         9:'Samples',10:'Rate',11:'V Start',12:'mV Max',\n",
    "         13:'T Max',14:'mv Avg',15:'V Peak',16:'T Peak',\n",
    "         17:'Run Time',18:'TimeStamp',19:'Run Data'}"
   ]
  },
  {
   "cell_type": "code",
   "execution_count": 72,
   "metadata": {},
   "outputs": [],
   "source": [
    "data = import_ppi_data(data_file)\n",
    "data = data.dropna()"
   ]
  },
  {
   "cell_type": "code",
   "execution_count": 73,
   "metadata": {},
   "outputs": [],
   "source": [
    "# Parse Session and Trial into Date, Animal, Session_Type, Trial_Type, Stim DB, Prepulse DB\n",
    "data = pd.concat((data,data.Session.str.split('_', expand=True)), axis=1).rename(columns={0:'Date',1:'Animal',2:'Session_Type'})\n",
    "data = pd.concat((data,data.Trial.str.split('_',expand=True)),axis=1).rename(columns={0:'Trial_Type',1:'Stim_dB',2:'Prepulse_dB'})\n",
    "cols = ['Stim_dB','Prepulse_dB']\n",
    "data[cols] = data[cols].apply(pd.to_numeric)\n",
    "animal = data['Subject'].unique()[0]\n",
    "#data.head()"
   ]
  },
  {
   "cell_type": "code",
   "execution_count": 74,
   "metadata": {},
   "outputs": [],
   "source": [
    "# Grab ASR data \n",
    "asrData = data.query('Session_Type==\"ASR\"')"
   ]
  },
  {
   "cell_type": "code",
   "execution_count": 75,
   "metadata": {},
   "outputs": [],
   "source": [
    "def logfunc(x,a,b):\n",
    "    #y = a/(1+np.exp(-b*(x-c)))\n",
    "    y = a+b*np.log(x)\n",
    "    return y"
   ]
  },
  {
   "cell_type": "code",
   "execution_count": 76,
   "metadata": {},
   "outputs": [],
   "source": [
    "def calcPPI(row,df):\n",
    "   # print(row)\n",
    "    if row['Trial_Type']=='PPI':\n",
    "        stimDB = row['Stim_dB']\n",
    "        stimMean = df.query('Trial_Type==\"Startle\" & Stim_dB==@stimDB')['mV Max'].mean()\n",
    "        return 100*(1-row['mV Max']/stimMean)\n",
    "    else:\n",
    "        return row['% PPI']"
   ]
  },
  {
   "cell_type": "code",
   "execution_count": 77,
   "metadata": {},
   "outputs": [],
   "source": [
    "custom_style = {'figure.facecolor':'.8',\n",
    "                \"axes.facecolor\":\".8\",\n",
    "                'axes.edgecolor':'.8',\n",
    "                \"axes.labelcolor\":\"black\",\n",
    "                \"axes.grid\":True,\n",
    "                'grid.color':'black',\n",
    "                \"text.color\":\"black\",\n",
    "                \"patch_edgecolor\":'black',\n",
    "                \"xtick.color\":\"black\",\n",
    "                \"ytick.color\":\"black\",\n",
    "                'axes.edgecolor':'black'}\n",
    "sns.set_style('whitegrid',rc=custom_style)\n",
    "sns.set_context('talk')\n",
    "col_palette = sns.color_palette(\"bright\")"
   ]
  },
  {
   "cell_type": "code",
   "execution_count": 78,
   "metadata": {},
   "outputs": [],
   "source": [
    "ppiData = data.query('Session_Type==\"rPPI\"')"
   ]
  },
  {
   "cell_type": "code",
   "execution_count": 79,
   "metadata": {},
   "outputs": [],
   "source": [
    "#startleDB = ppiData.query('Trial_Type==\"Startle\"')['Stim_dB'].unique()\n",
    "ppiData.loc[:,\"% PPI\"] = np.nan\n",
    "ppiData.loc[:,'% PPI'] = ppiData.apply(lambda x: calcPPI(x,ppiData),axis=1)"
   ]
  },
  {
   "cell_type": "code",
   "execution_count": 63,
   "metadata": {},
   "outputs": [],
   "source": [
    "def ppi_mets(x):\n",
    "    d = {}\n",
    "    d['Mean Startle (mV)'] = x['mV Max'].mean()\n",
    "    d['Startle SD (mV)'] = x['mV Max'].std()\n",
    "    d['Mean PPI (%)'] = x['% PPI'].mean()\n",
    "    d['PPI SD (%)'] = x['% PPI'].std()\n",
    "    return pd.Series(d,index=['Mean Startle (mV)','Startle SD (mV)','Mean PPI (%)','PPI SD (%)'])\n",
    "ppi_metrics = ppiData.groupby(['Trial_Type','Stim_dB','Prepulse_dB']).apply(ppi_mets).round(2)"
   ]
  },
  {
   "cell_type": "code",
   "execution_count": 232,
   "metadata": {},
   "outputs": [],
   "source": [
    "# Order bars\n",
    "a = ppiData['Trial'].unique()\n",
    "sortDF = pd.DataFrame(a,columns=['Trial'])\n",
    "sortDF = pd.concat((sortDF,sortDF.Trial.str.split('_',expand=True)),axis=1).rename(columns={0:'Trial_Type',1:'Stim_dB',2:'Prepulse_dB'})\n",
    "cols = ['Stim_dB','Prepulse_dB']\n",
    "sortDF[cols] = sortDF[cols].apply(pd.to_numeric)\n",
    "sortDF['Trial_Type'] = pd.Categorical(sortDF['Trial_Type'],['NoStim','PPIO','Startle','PPI'])\n",
    "sortDF = sortDF.sort_values(by=['Trial_Type','Stim_dB','Prepulse_dB'])\n",
    "sortDF.reset_index(inplace=True,drop=True)\n",
    "sortDF.reset_index(inplace=True)\n",
    "sortDF.rename(columns={'index':'x'},inplace=True)\n",
    "barOrder = sortDF['Trial']"
   ]
  },
  {
   "cell_type": "code",
   "execution_count": 235,
   "metadata": {},
   "outputs": [],
   "source": [
    "# Stats: Welch's T-test between PPI Trials and Startle Trials\n",
    "# Get stim and prepulse DB values, figure out which prepulse trials have corresponding startle trials\n",
    "ppiStim = ppiData.query(\"Trial_Type=='PPI'\")['Stim_dB'].unique()\n",
    "stimDB = [x for x in ppiStim if not ppiData.query('Trial_Type==\"Startle\" and Stim_dB==@x').empty]\n",
    "ppDB = ppiData.query('Trial_Type==\"PPI\"')['Prepulse_dB'].unique()\n",
    "ppiStats = pd.DataFrame(columns=['Stim_dB','Prepulse_dB','T-statistic','p-Value','sigstars','x'])\n",
    "for stim in stimDB:\n",
    "    for pp in ppDB:\n",
    "        a = ppiData.query('Trial_Type==\"Startle\" and Stim_dB==@stim')['mV Max']\n",
    "        b = ppiData.query('Trial_Type==\"PPI\" and Stim_dB==@stim and Prepulse_dB==@pp')['mV Max']\n",
    "        if a.empty or b.empty:\n",
    "            continue\n",
    "        res = ttest_ind(a,b,equal_var=False)\n",
    "        ss = ''\n",
    "        if res.pvalue<=0.05:\n",
    "            ss = '*'\n",
    "        if res.pvalue<=0.01:\n",
    "            ss = '**'\n",
    "        if res.pvalue<=0.001:\n",
    "            ss='***'\n",
    "        x = sortDF.query('Stim_dB==@stim and Prepulse_dB==@pp')['x'].tolist()[0]\n",
    "        ppiStats.loc[-1] = [stim,pp,res.statistic,res.pvalue,ss,x]\n",
    "        ppiStats.reset_index(drop=True,inplace=True)"
   ]
  },
  {
   "cell_type": "code",
   "execution_count": 255,
   "metadata": {},
   "outputs": [],
   "source": [
    "pal = sns.color_palette('bright')\n",
    "plt.rcParams[\"figure.figsize\"] = (30, 20)\n",
    "plt.rcParams[\"xtick.labelsize\"] = 12\n",
    "ax = plt.pyplot.subplot(2,1,1)\n",
    "g = sns.pointplot(ax=ax,x=\"Stim_dB\",y='mV Max',data=asrData,color='mediumvioletred',ci='sd')\n",
    "g.set_title(animal+' Acoustic Startle Response')\n",
    "g.set(xlabel='Stimulus dB',ylabel='Max Startle (mV)')\n",
    "\n",
    "ax = plt.pyplot.subplot(2,2,3)\n",
    "g = sns.barplot(ax=ax,x='Trial',y='mV Max',data=ppiData,palette='bright',order=barOrder)\n",
    "g.set_title(animal+' rPPI Startle Responses')\n",
    "g.set(xlabel='Stimulus dB',ylabel='Max Startle (mV)')\n",
    "ylim = g.get_ylim()\n",
    "errorbars = g.get_lines()\n",
    "barTops = [x.get_ydata()[1] for x in errorbars]\n",
    "startX = sortDF.x[sortDF.Trial_Type=='Startle'].tolist()[0]\n",
    "endX = ppiStats.x[ppiStats['p-Value']<=0.05].tolist()\n",
    "stars = ppiStats.sigstars[ppiStats['p-Value']<=0.05].tolist()\n",
    "startY = barTops[startX]+10\n",
    "endY = [barTops[x] for x in endX]\n",
    "for x,y,ss in zip(endX,endY,stars):\n",
    "    midpoint = (x+startX)/2\n",
    "    midY = (startY+y)/2\n",
    "    plt.pyplot.plot([startX,startX,x,x],[startY,startY+5,startY+5,midY],linewidth=2,color='k')\n",
    "    plt.pyplot.text(midpoint,startY+3,ss)\n",
    "    startY = startY+12\n",
    "\n",
    "ax=plt.pyplot.subplot(2,2,4)\n",
    "g=sns.barplot(ax = ax,x='Prepulse_dB',y=\"% PPI\",data=ppiData,order = [70,75,80],palette=pal[3:6])\n",
    "g.set_title(animal+' Percent PPI')\n",
    "g.set(xlabel='Prepulse dB',ylabel='% PPI')\n",
    "\n",
    "#plt.pyplot.savefig(animal+'_PPI_Results_Figure.png')"
   ]
  },
  {
   "cell_type": "code",
   "execution_count": 260,
   "metadata": {},
   "outputs": [
    {
     "data": {
      "text/plain": [
       "4"
      ]
     },
     "execution_count": 260,
     "metadata": {},
     "output_type": "execute_result"
    }
   ],
   "source": [
    "2+2"
   ]
  },
  {
   "cell_type": "code",
   "execution_count": null,
   "metadata": {},
   "outputs": [],
   "source": []
  }
 ],
 "metadata": {
  "kernelspec": {
   "display_name": "Python 3",
   "language": "python",
   "name": "python3"
  },
  "language_info": {
   "codemirror_mode": {
    "name": "ipython",
    "version": 3
   },
   "file_extension": ".py",
   "mimetype": "text/x-python",
   "name": "python",
   "nbconvert_exporter": "python",
   "pygments_lexer": "ipython3",
   "version": "3.5.2"
  }
 },
 "nbformat": 4,
 "nbformat_minor": 2
}
